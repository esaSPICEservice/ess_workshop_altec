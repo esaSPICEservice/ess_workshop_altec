{
 "cells": [
  {
   "cell_type": "markdown",
   "metadata": {},
   "source": [
    "# ExoMarsRSP SPICE Kernel Dataset Testcase "
   ]
  },
  {
   "cell_type": "markdown",
   "metadata": {},
   "source": [
    "This Jupyter Notebook is used to illustrate some examples on how to use the testcase provided in the ExoMarsRSP SKD.\n",
    "\n",
    "The scenario that this release covers simulates a trip of the rover, the operation of the drill and an imaging observation by moving the payload bench on top of the mast by a given pan and tilt set of angles. "
   ]
  },
  {
   "cell_type": "code",
   "execution_count": null,
   "metadata": {},
   "outputs": [],
   "source": [
    "%matplotlib inline\n",
    "import matplotlib as mpl\n",
    "mpl.rcParams['figure.figsize'] = (20,20)\n",
    "\n",
    "import spiceypy \n",
    "import matplotlib.pyplot as plt\n",
    "import numpy as np\n",
    "\n",
    "spiceypy.furnsh('/Users/mcosta/ess_workshop_altec/lesson_exomarsrsp/kernels/mk/emrsp_rm_mes_0001_v001.tm')"
   ]
  },
  {
   "cell_type": "markdown",
   "metadata": {},
   "source": [
    "Compute the distance and the altitude difference from the Landing Site to the Travel Site 001 (RM_SITE_001_001)."
   ]
  },
  {
   "cell_type": "code",
   "execution_count": null,
   "metadata": {},
   "outputs": [],
   "source": []
  },
  {
   "cell_type": "markdown",
   "metadata": {},
   "source": [
    "Generate a time interval that starts at the time that the Rover starts traveling and finishes when the Rover stops."
   ]
  },
  {
   "cell_type": "code",
   "execution_count": null,
   "metadata": {},
   "outputs": [],
   "source": [
    "spiceypy.furnsh('/Users/mcosta/ess_workshop_altec/lesson_exomarsrsp/kernels/mk/emrsp_rm_mes_0001_v001.tm')\n",
    "\n",
    "start_time = '2020-11-11T00:00:05'\n",
    "finish_time = '2020-11-11T00:06:15'\n",
    "\n",
    "start_et = spiceypy.str2et(start_time)\n",
    "finish_et = spiceypy.str2et(finish_time)\n",
    "\n",
    "interval = np.arange(start_et, finish_et, 1)"
   ]
  },
  {
   "cell_type": "markdown",
   "metadata": {},
   "source": [
    "Compute the position of the Rover w.r.t the Travel Site 001 during the period that the rover is traveling, generate a 2-D plot of the travel path."
   ]
  },
  {
   "cell_type": "code",
   "execution_count": null,
   "metadata": {},
   "outputs": [],
   "source": []
  },
  {
   "cell_type": "markdown",
   "metadata": {},
   "source": [
    "Compute the Angular Offset of the Rover +X axis (driving direction) w.r.t to the -X axis of the Mars Local Geodetic frame of the Travel Site 001. "
   ]
  },
  {
   "cell_type": "code",
   "execution_count": null,
   "metadata": {},
   "outputs": [],
   "source": [
    "rm_state = []\n",
    "rm_xoffset = []\n",
    "\n",
    "for et in interval_rm:\n",
    "\n",
    "    rm_state.append(spiceypy.spkezr('EXOMARS ROVER',et, 'RM_MLG', 'NONE', 'RM_SITE_001_001')[0])\n",
    "\n",
    "    mat = spiceypy.pxform('RM_MLG', 'RM_ROVER', et)\n",
    "    mlg_x  = spiceypy.mxv(mat, [1,0,0])\n",
    "    ang = spiceypy.vsep(mlg_x, [1,0,0])*spiceypy.dpr()\n",
    "    \n",
    "    rm_xoffset.append(ang)\n",
    "    \n",
    "x, y = [], []\n",
    "\n",
    "for element in rm_state:\n",
    "    x.append(element[0])\n",
    "    y.append(element[1])\n",
    "\n",
    "fig = plt.figure()\n",
    "\n",
    "plt.plot(x,y)\n",
    "plt.title('ExoMars RSP Rover Module Testcase Travel')\n",
    "plt.ylabel('Y - Distance [km]')\n",
    "plt.xlabel('X - Distance [km]')\n",
    "plt.show()\n",
    "\n",
    "fig = plt.figure()\n",
    "\n",
    "plt.plot(interval_rm,rm_xoffset)\n",
    "plt.title('ExoMars RSP Rover Module Testcase X-Offset')\n",
    "plt.ylabel('+X offset [deg]')\n",
    "plt.xlabel('Ephemeris Time [s]')\n",
    "plt.show()"
   ]
  },
  {
   "cell_type": "markdown",
   "metadata": {},
   "source": [
    "Compute the position of the PanCam HRC sensor with respect to the RM center, are you finding any issue? Can you explain what is the problem?"
   ]
  },
  {
   "cell_type": "code",
   "execution_count": null,
   "metadata": {},
   "outputs": [],
   "source": [
    "sensor_name = 'RM_PANCAM_HRC'\n",
    "        sensor_id = cspice.bodn2c(sensor_name)\n",
    "        (shape, frame, bsight, vectors, bounds) = cspice.getfov(sensor_id, 100)\n",
    "        print('{} shape:   {}'.format(sensor_name, shape))\n",
    "        print('{} frame:   {}'.format(sensor_name, frame))\n",
    "        print('{} bsight:  {}'.format(sensor_name, bsight))\n",
    "        print('{} vectors: {}'.format(sensor_name, vectors))\n",
    "        print(bounds)"
   ]
  },
  {
   "cell_type": "markdown",
   "metadata": {},
   "source": [
    "Generate a new SPK Travel Site, using the last position of the Rover and append it to the original Travel Site SPK"
   ]
  },
  {
   "cell_type": "code",
   "execution_count": null,
   "metadata": {},
   "outputs": [],
   "source": []
  }
 ],
 "metadata": {
  "kernelspec": {
   "display_name": "Python 3",
   "language": "python",
   "name": "python3"
  },
  "language_info": {
   "codemirror_mode": {
    "name": "ipython",
    "version": 3
   },
   "file_extension": ".py",
   "mimetype": "text/x-python",
   "name": "python",
   "nbconvert_exporter": "python",
   "pygments_lexer": "ipython3",
   "version": "3.7.4"
  }
 },
 "nbformat": 4,
 "nbformat_minor": 4
}
